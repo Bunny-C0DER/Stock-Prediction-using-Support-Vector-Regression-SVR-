{
 "cells": [
  {
   "cell_type": "code",
   "execution_count": 1,
   "metadata": {},
   "outputs": [],
   "source": [
    "#importing librairies\n",
    "\n",
    "import pandas as pd\n",
    "import numpy as np\n"
   ]
  },
  {
   "cell_type": "code",
   "execution_count": 2,
   "metadata": {},
   "outputs": [],
   "source": [
    "#loading dataset\n",
    "\n",
    "dataset = pd.read_csv('data.csv')"
   ]
  },
  {
   "cell_type": "code",
   "execution_count": 3,
   "metadata": {},
   "outputs": [
    {
     "name": "stdout",
     "output_type": "stream",
     "text": [
      "(94, 2)\n",
      "            x           y\n",
      "0  168.181818  160.840244\n",
      "1  187.878788  159.413657\n",
      "2  207.575758  157.136809\n",
      "3  227.272727  159.357847\n",
      "4  246.969697  157.542862\n"
     ]
    }
   ],
   "source": [
    "#summarizing dataset\n",
    "\n",
    "print(dataset.shape)\n",
    "print(dataset.head(5))"
   ]
  },
  {
   "cell_type": "code",
   "execution_count": 4,
   "metadata": {},
   "outputs": [
    {
     "data": {
      "text/plain": [
       "array([160.84024381, 159.41365734, 157.1368088 , 159.35784736,\n",
       "       157.54286158, 157.73520716, 159.34756091, 155.23404557,\n",
       "       155.80774009, 158.3299704 , 157.62585291, 160.47697951,\n",
       "       158.22940639, 157.41781684, 163.37069148, 160.18481104,\n",
       "       160.96838974, 158.18080666, 160.13850728, 161.6460876 ,\n",
       "       159.31922497, 162.56957785, 160.81387414, 161.62873371,\n",
       "       161.20567768, 166.31061698, 162.77603585, 160.88457814,\n",
       "       164.84205952, 160.95225209, 164.00863628, 159.86853854,\n",
       "       161.32847639, 164.57554065, 165.85572104, 164.91849414,\n",
       "       164.54143071, 164.36748958, 162.20962269, 163.92394795,\n",
       "       164.63932852, 167.87182021, 166.64178203, 162.62543484,\n",
       "       166.99665279, 165.77528998, 165.38858024, 168.16274652,\n",
       "       169.19836268, 169.19589357, 165.85186798, 167.10884798,\n",
       "       168.58676929, 170.07230238, 167.35983334, 168.14383356,\n",
       "       166.49945126, 166.51667766, 170.73111225, 172.01551036,\n",
       "       169.35597976, 171.70403549, 170.61721144, 168.80066958,\n",
       "       171.01067   , 173.56092162, 170.6101661 , 174.00807519,\n",
       "       165.83626737, 172.91653228, 171.64379111, 171.06865197,\n",
       "       172.04715792, 168.08546823, 171.81823198, 173.1687706 ,\n",
       "       175.60730324, 171.81194441, 171.42846734, 172.23891016,\n",
       "       175.27019817, 174.29386586, 172.77381293, 175.0568379 ,\n",
       "       174.42142783, 176.36153241, 173.21710593, 174.16285752,\n",
       "       174.23093521, 172.28509132, 176.00133146, 176.12817115,\n",
       "       175.81325722, 175.53082573])"
      ]
     },
     "execution_count": 4,
     "metadata": {},
     "output_type": "execute_result"
    }
   ],
   "source": [
    "#segregating dataset into X and Y\n",
    "\n",
    "X=dataset.iloc[:,:-1].values\n",
    "X\n",
    "Y=dataset.iloc[:,-1].values\n",
    "Y"
   ]
  },
  {
   "cell_type": "code",
   "execution_count": 6,
   "metadata": {},
   "outputs": [],
   "source": [
    "#splitting the dataset into test and train\n",
    "\n",
    "from sklearn.model_selection import train_test_split\n",
    "X_train, X_test, Y_train, Y_test = train_test_split(X, Y, test_size=0.25, random_state=0)"
   ]
  },
  {
   "cell_type": "code",
   "execution_count": 14,
   "metadata": {},
   "outputs": [
    {
     "name": "stdout",
     "output_type": "stream",
     "text": [
      "[LibSVM]"
     ]
    },
    {
     "data": {
      "text/plain": [
       "SVR(cache_size=500, coef0=0.001, epsilon=0.01, kernel='poly', shrinking=False,\n",
       "    tol=0.0001, verbose=True)"
      ]
     },
     "execution_count": 14,
     "metadata": {},
     "output_type": "execute_result"
    }
   ],
   "source": [
    "#training dataset using Support Vector Regression(SVR)\n",
    "\n",
    "from sklearn.svm import SVR\n",
    "model1= SVR()\n",
    "model2= SVR(kernel='linear', degree=2, gamma='scale', coef0=0.001, tol=0.0001, C=1.0, epsilon=0.01, shrinking=True, cache_size=500, verbose=False, max_iter=-1)\n",
    "model3= SVR(kernel='poly', degree=3, gamma='scale', coef0=0.001, tol=0.0001, C=1.0, epsilon=0.01, shrinking=False, cache_size=500, verbose=True, max_iter=-1)\n",
    "\n",
    "model1.fit(X_train, Y_train)\n",
    "model2.fit(X_train, Y_train)\n",
    "model3.fit(X_train, Y_train)"
   ]
  },
  {
   "cell_type": "code",
   "execution_count": 16,
   "metadata": {},
   "outputs": [
    {
     "name": "stdout",
     "output_type": "stream",
     "text": [
      "For Model 1:\n",
      "Root Mean Square Error: 2.287434526629822\n",
      "R2Score 85.5790641831445\n",
      "For Model 2:\n",
      "Root Mean Square Error: 1.9197100784582477\n",
      "R2Score 89.84295469387835\n",
      "For Model 3:\n",
      "Root Mean Square Error: 3.359699819475323\n",
      "R2Score 68.89021198177431\n"
     ]
    }
   ],
   "source": [
    "#prediction for all test data for validation\n",
    "\n",
    "ypred1 = model1.predict(X_test)\n",
    "ypred2 = model2.predict(X_test)\n",
    "ypred3 = model3.predict(X_test)\n",
    "\n",
    "from sklearn.metrics import r2_score,mean_squared_error\n",
    "\n",
    "mse1 = mean_squared_error(Y_test,ypred1)\n",
    "rmse1 = np.sqrt(mse)\n",
    "print(\"For Model 1:\")\n",
    "print(\"Root Mean Square Error:\",rmse1)\n",
    "r2score = r2_score(Y_test,ypred1)\n",
    "print(\"R2Score\",r2score*100)\n",
    "\n",
    "mse2 = mean_squared_error(Y_test,ypred2)\n",
    "rmse2 = np.sqrt(mse2)\n",
    "print(\"For Model 2:\")\n",
    "print(\"Root Mean Square Error:\",rmse2)\n",
    "r2score = r2_score(Y_test,ypred2)\n",
    "print(\"R2Score\",r2score*100)\n",
    "\n",
    "mse3 = mean_squared_error(Y_test,ypred3)\n",
    "rmse3 = np.sqrt(mse3)\n",
    "print(\"For Model 3:\")\n",
    "print(\"Root Mean Square Error:\",rmse3)\n",
    "r2score = r2_score(Y_test,ypred3)\n",
    "print(\"R2Score\",r2score*100)"
   ]
  },
  {
   "cell_type": "code",
   "execution_count": null,
   "metadata": {},
   "outputs": [],
   "source": []
  }
 ],
 "metadata": {
  "kernelspec": {
   "display_name": "Python 3",
   "language": "python",
   "name": "python3"
  },
  "language_info": {
   "codemirror_mode": {
    "name": "ipython",
    "version": 3
   },
   "file_extension": ".py",
   "mimetype": "text/x-python",
   "name": "python",
   "nbconvert_exporter": "python",
   "pygments_lexer": "ipython3",
   "version": "3.8.5"
  }
 },
 "nbformat": 4,
 "nbformat_minor": 4
}
